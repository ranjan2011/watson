{
    "cells": [
        {
            "cell_type": "code",
            "execution_count": 2,
            "metadata": {},
            "outputs": [],
            "source": "\nimport pandas as pd"
        },
        {
            "cell_type": "code",
            "execution_count": 7,
            "metadata": {},
            "outputs": [],
            "source": "import ibm_db\nimport ibm_db_dbi"
        },
        {
            "cell_type": "code",
            "execution_count": 8,
            "metadata": {},
            "outputs": [],
            "source": "dsn = \"DRIVER={{IBM DB2 ODBC DRIVER}};\" + \\\n      \"DATABASE=BLUDB;\" + \\\n      \"HOSTNAME=dashdb-txn-sbox-yp-dal09-03.services.dal.bluemix.net;\" + \\\n      \"PORT=50000;\" + \\\n      \"PROTOCOL=TCPIP;\" + \\\n      \"UID=qnl98802;\" + \\\n      \"PWD=rzz7g@cmttqsmdqt;\""
        },
        {
            "cell_type": "code",
            "execution_count": 9,
            "metadata": {},
            "outputs": [
                {
                    "name": "stdout",
                    "output_type": "stream",
                    "text": "connected\n"
                }
            ],
            "source": "try:\n    conn  = ibm_db.connect(dsn, \"\", \"\")\n    print(\"connected\")\nexcept:\n    print(\"error\")"
        },
        {
            "cell_type": "code",
            "execution_count": 12,
            "metadata": {},
            "outputs": [],
            "source": "coni = ibm_db_dbi.Connection(conn)"
        },
        {
            "cell_type": "code",
            "execution_count": 13,
            "metadata": {},
            "outputs": [],
            "source": "sql = 'select count(*) from crimes'"
        },
        {
            "cell_type": "code",
            "execution_count": 16,
            "metadata": {},
            "outputs": [
                {
                    "data": {
                        "text/html": "<div>\n<style scoped>\n    .dataframe tbody tr th:only-of-type {\n        vertical-align: middle;\n    }\n\n    .dataframe tbody tr th {\n        vertical-align: top;\n    }\n\n    .dataframe thead th {\n        text-align: right;\n    }\n</style>\n<table border=\"1\" class=\"dataframe\">\n  <thead>\n    <tr style=\"text-align: right;\">\n      <th></th>\n      <th>1</th>\n    </tr>\n  </thead>\n  <tbody>\n    <tr>\n      <th>0</th>\n      <td>533.0</td>\n    </tr>\n  </tbody>\n</table>\n</div>",
                        "text/plain": "       1\n0  533.0"
                    },
                    "execution_count": 16,
                    "metadata": {},
                    "output_type": "execute_result"
                }
            ],
            "source": "df = pd.read_sql(sql,coni)\ndf"
        },
        {
            "cell_type": "code",
            "execution_count": 17,
            "metadata": {},
            "outputs": [
                {
                    "data": {
                        "text/html": "<div>\n<style scoped>\n    .dataframe tbody tr th:only-of-type {\n        vertical-align: middle;\n    }\n\n    .dataframe tbody tr th {\n        vertical-align: top;\n    }\n\n    .dataframe thead th {\n        text-align: right;\n    }\n</style>\n<table border=\"1\" class=\"dataframe\">\n  <thead>\n    <tr style=\"text-align: right;\">\n      <th></th>\n      <th>ID</th>\n      <th>CASE_NUMBER</th>\n      <th>BLOCK</th>\n      <th>IUCR</th>\n      <th>PRIMARY_TYPE</th>\n      <th>DESCRIPTION</th>\n      <th>LOCATION_DESCRIPTION</th>\n      <th>ARREST</th>\n      <th>DOMESTIC</th>\n      <th>BEAT</th>\n      <th>DISTRICT</th>\n      <th>WARD</th>\n      <th>COMMUNITY_AREA_NUMBER</th>\n      <th>FBICODE</th>\n      <th>X_COORDINATE</th>\n      <th>Y_COORDINATE</th>\n      <th>YEAR</th>\n      <th>LATITUDE</th>\n      <th>LONGITUDE</th>\n      <th>LOCATION</th>\n    </tr>\n  </thead>\n  <tbody>\n    <tr>\n      <th>0</th>\n      <td>3512276</td>\n      <td>HK587712</td>\n      <td>047XX S KEDZIE AVE</td>\n      <td>890</td>\n      <td>THEFT</td>\n      <td>FROM BUILDING</td>\n      <td>SMALL RETAIL STORE</td>\n      <td>FALSE</td>\n      <td>FALSE</td>\n      <td>911</td>\n      <td>9</td>\n      <td>14</td>\n      <td>58</td>\n      <td>6</td>\n      <td>1155838</td>\n      <td>1873050</td>\n      <td>2004</td>\n      <td>41.807440</td>\n      <td>-87.703956</td>\n      <td>(41.8074405, -87.703955849)</td>\n    </tr>\n    <tr>\n      <th>1</th>\n      <td>3406613</td>\n      <td>HK456306</td>\n      <td>009XX N CENTRAL PARK AVE</td>\n      <td>820</td>\n      <td>THEFT</td>\n      <td>$500 AND UNDER</td>\n      <td>OTHER</td>\n      <td>FALSE</td>\n      <td>FALSE</td>\n      <td>1112</td>\n      <td>11</td>\n      <td>27</td>\n      <td>23</td>\n      <td>6</td>\n      <td>1152206</td>\n      <td>1906127</td>\n      <td>2004</td>\n      <td>41.898280</td>\n      <td>-87.716406</td>\n      <td>(41.898279962, -87.716405505)</td>\n    </tr>\n    <tr>\n      <th>2</th>\n      <td>8002131</td>\n      <td>HT233595</td>\n      <td>043XX S WABASH AVE</td>\n      <td>820</td>\n      <td>THEFT</td>\n      <td>$500 AND UNDER</td>\n      <td>NURSING HOME/RETIREMENT HOME</td>\n      <td>FALSE</td>\n      <td>FALSE</td>\n      <td>221</td>\n      <td>2</td>\n      <td>3</td>\n      <td>38</td>\n      <td>6</td>\n      <td>1177436</td>\n      <td>1876313</td>\n      <td>2011</td>\n      <td>41.815933</td>\n      <td>-87.624642</td>\n      <td>(41.815933131, -87.624642127)</td>\n    </tr>\n    <tr>\n      <th>3</th>\n      <td>7903289</td>\n      <td>HT133522</td>\n      <td>083XX S KINGSTON AVE</td>\n      <td>840</td>\n      <td>THEFT</td>\n      <td>FINANCIAL ID THEFT: OVER $300</td>\n      <td>RESIDENCE</td>\n      <td>FALSE</td>\n      <td>FALSE</td>\n      <td>423</td>\n      <td>4</td>\n      <td>7</td>\n      <td>46</td>\n      <td>6</td>\n      <td>1194622</td>\n      <td>1850125</td>\n      <td>2010</td>\n      <td>41.743665</td>\n      <td>-87.562463</td>\n      <td>(41.743665322, -87.562462756)</td>\n    </tr>\n    <tr>\n      <th>4</th>\n      <td>10402076</td>\n      <td>HZ138551</td>\n      <td>033XX W 66TH ST</td>\n      <td>820</td>\n      <td>THEFT</td>\n      <td>$500 AND UNDER</td>\n      <td>ALLEY</td>\n      <td>FALSE</td>\n      <td>FALSE</td>\n      <td>831</td>\n      <td>8</td>\n      <td>15</td>\n      <td>66</td>\n      <td>6</td>\n      <td>1155240</td>\n      <td>1860661</td>\n      <td>2016</td>\n      <td>41.773455</td>\n      <td>-87.706480</td>\n      <td>(41.773455295, -87.706480471)</td>\n    </tr>\n    <tr>\n      <th>5</th>\n      <td>7732712</td>\n      <td>HS540106</td>\n      <td>006XX W CHICAGO AVE</td>\n      <td>810</td>\n      <td>THEFT</td>\n      <td>OVER $500</td>\n      <td>PARKING LOT/GARAGE(NON.RESID.)</td>\n      <td>FALSE</td>\n      <td>FALSE</td>\n      <td>1323</td>\n      <td>12</td>\n      <td>27</td>\n      <td>24</td>\n      <td>6</td>\n      <td>1171668</td>\n      <td>1905607</td>\n      <td>2010</td>\n      <td>41.896447</td>\n      <td>-87.644939</td>\n      <td>(41.896446772, -87.644938678)</td>\n    </tr>\n    <tr>\n      <th>6</th>\n      <td>10769475</td>\n      <td>HZ534771</td>\n      <td>050XX N KEDZIE AVE</td>\n      <td>810</td>\n      <td>THEFT</td>\n      <td>OVER $500</td>\n      <td>STREET</td>\n      <td>FALSE</td>\n      <td>FALSE</td>\n      <td>1713</td>\n      <td>17</td>\n      <td>33</td>\n      <td>14</td>\n      <td>6</td>\n      <td>1154133</td>\n      <td>1933314</td>\n      <td>2016</td>\n      <td>41.972845</td>\n      <td>-87.708600</td>\n      <td>(41.972844913, -87.708600079)</td>\n    </tr>\n    <tr>\n      <th>7</th>\n      <td>4494340</td>\n      <td>HL793243</td>\n      <td>005XX E PERSHING RD</td>\n      <td>860</td>\n      <td>THEFT</td>\n      <td>RETAIL THEFT</td>\n      <td>GROCERY FOOD STORE</td>\n      <td>TRUE</td>\n      <td>FALSE</td>\n      <td>213</td>\n      <td>2</td>\n      <td>3</td>\n      <td>38</td>\n      <td>6</td>\n      <td>1180448</td>\n      <td>1879234</td>\n      <td>2005</td>\n      <td>41.823880</td>\n      <td>-87.613504</td>\n      <td>(41.823879885, -87.613503857)</td>\n    </tr>\n    <tr>\n      <th>8</th>\n      <td>3778925</td>\n      <td>HL149610</td>\n      <td>100XX S WASHTENAW AVE</td>\n      <td>810</td>\n      <td>THEFT</td>\n      <td>OVER $500</td>\n      <td>STREET</td>\n      <td>FALSE</td>\n      <td>FALSE</td>\n      <td>2211</td>\n      <td>22</td>\n      <td>19</td>\n      <td>72</td>\n      <td>6</td>\n      <td>1160129</td>\n      <td>1838040</td>\n      <td>2005</td>\n      <td>41.711281</td>\n      <td>-87.689179</td>\n      <td>(41.711280513, -87.689179097)</td>\n    </tr>\n    <tr>\n      <th>9</th>\n      <td>3324217</td>\n      <td>HK361551</td>\n      <td>033XX W BELMONT AVE</td>\n      <td>820</td>\n      <td>THEFT</td>\n      <td>$500 AND UNDER</td>\n      <td>SMALL RETAIL STORE</td>\n      <td>FALSE</td>\n      <td>FALSE</td>\n      <td>1733</td>\n      <td>17</td>\n      <td>35</td>\n      <td>21</td>\n      <td>6</td>\n      <td>1153590</td>\n      <td>1921084</td>\n      <td>2004</td>\n      <td>41.939296</td>\n      <td>-87.710923</td>\n      <td>(41.939295821, -87.710923442)</td>\n    </tr>\n  </tbody>\n</table>\n</div>",
                        "text/plain": "         ID CASE_NUMBER                     BLOCK IUCR PRIMARY_TYPE  \\\n0   3512276    HK587712        047XX S KEDZIE AVE  890        THEFT   \n1   3406613    HK456306  009XX N CENTRAL PARK AVE  820        THEFT   \n2   8002131    HT233595        043XX S WABASH AVE  820        THEFT   \n3   7903289    HT133522      083XX S KINGSTON AVE  840        THEFT   \n4  10402076    HZ138551           033XX W 66TH ST  820        THEFT   \n5   7732712    HS540106       006XX W CHICAGO AVE  810        THEFT   \n6  10769475    HZ534771        050XX N KEDZIE AVE  810        THEFT   \n7   4494340    HL793243       005XX E PERSHING RD  860        THEFT   \n8   3778925    HL149610     100XX S WASHTENAW AVE  810        THEFT   \n9   3324217    HK361551       033XX W BELMONT AVE  820        THEFT   \n\n                     DESCRIPTION            LOCATION_DESCRIPTION ARREST  \\\n0                  FROM BUILDING              SMALL RETAIL STORE  FALSE   \n1                 $500 AND UNDER                           OTHER  FALSE   \n2                 $500 AND UNDER    NURSING HOME/RETIREMENT HOME  FALSE   \n3  FINANCIAL ID THEFT: OVER $300                       RESIDENCE  FALSE   \n4                 $500 AND UNDER                           ALLEY  FALSE   \n5                      OVER $500  PARKING LOT/GARAGE(NON.RESID.)  FALSE   \n6                      OVER $500                          STREET  FALSE   \n7                   RETAIL THEFT              GROCERY FOOD STORE   TRUE   \n8                      OVER $500                          STREET  FALSE   \n9                 $500 AND UNDER              SMALL RETAIL STORE  FALSE   \n\n  DOMESTIC  BEAT  DISTRICT  WARD  COMMUNITY_AREA_NUMBER FBICODE  X_COORDINATE  \\\n0    FALSE   911         9    14                     58       6       1155838   \n1    FALSE  1112        11    27                     23       6       1152206   \n2    FALSE   221         2     3                     38       6       1177436   \n3    FALSE   423         4     7                     46       6       1194622   \n4    FALSE   831         8    15                     66       6       1155240   \n5    FALSE  1323        12    27                     24       6       1171668   \n6    FALSE  1713        17    33                     14       6       1154133   \n7    FALSE   213         2     3                     38       6       1180448   \n8    FALSE  2211        22    19                     72       6       1160129   \n9    FALSE  1733        17    35                     21       6       1153590   \n\n   Y_COORDINATE  YEAR   LATITUDE  LONGITUDE                       LOCATION  \n0       1873050  2004  41.807440 -87.703956    (41.8074405, -87.703955849)  \n1       1906127  2004  41.898280 -87.716406  (41.898279962, -87.716405505)  \n2       1876313  2011  41.815933 -87.624642  (41.815933131, -87.624642127)  \n3       1850125  2010  41.743665 -87.562463  (41.743665322, -87.562462756)  \n4       1860661  2016  41.773455 -87.706480  (41.773455295, -87.706480471)  \n5       1905607  2010  41.896447 -87.644939  (41.896446772, -87.644938678)  \n6       1933314  2016  41.972845 -87.708600  (41.972844913, -87.708600079)  \n7       1879234  2005  41.823880 -87.613504  (41.823879885, -87.613503857)  \n8       1838040  2005  41.711281 -87.689179  (41.711280513, -87.689179097)  \n9       1921084  2004  41.939296 -87.710923  (41.939295821, -87.710923442)  "
                    },
                    "execution_count": 17,
                    "metadata": {},
                    "output_type": "execute_result"
                }
            ],
            "source": "sql='select * from crimes LIMIT 10'\ndf = pd.read_sql(sql,coni)\ndf"
        },
        {
            "cell_type": "code",
            "execution_count": 18,
            "metadata": {},
            "outputs": [
                {
                    "data": {
                        "text/html": "<div>\n<style scoped>\n    .dataframe tbody tr th:only-of-type {\n        vertical-align: middle;\n    }\n\n    .dataframe tbody tr th {\n        vertical-align: top;\n    }\n\n    .dataframe thead th {\n        text-align: right;\n    }\n</style>\n<table border=\"1\" class=\"dataframe\">\n  <thead>\n    <tr style=\"text-align: right;\">\n      <th></th>\n      <th>1</th>\n    </tr>\n  </thead>\n  <tbody>\n    <tr>\n      <th>0</th>\n      <td>163.0</td>\n    </tr>\n  </tbody>\n</table>\n</div>",
                        "text/plain": "       1\n0  163.0"
                    },
                    "execution_count": 18,
                    "metadata": {},
                    "output_type": "execute_result"
                }
            ],
            "source": "sql='select  count(*) from crimes where ARREST=TRUE'\ndf = pd.read_sql(sql,coni)\ndf"
        },
        {
            "cell_type": "code",
            "execution_count": 21,
            "metadata": {},
            "outputs": [
                {
                    "data": {
                        "text/html": "<div>\n<style scoped>\n    .dataframe tbody tr th:only-of-type {\n        vertical-align: middle;\n    }\n\n    .dataframe tbody tr th {\n        vertical-align: top;\n    }\n\n    .dataframe thead th {\n        text-align: right;\n    }\n</style>\n<table border=\"1\" class=\"dataframe\">\n  <thead>\n    <tr style=\"text-align: right;\">\n      <th></th>\n      <th>PRIMARY_TYPE</th>\n    </tr>\n  </thead>\n  <tbody>\n    <tr>\n      <th>0</th>\n      <td>CRIMINAL TRESPASS</td>\n    </tr>\n    <tr>\n      <th>1</th>\n      <td>NARCOTICS</td>\n    </tr>\n    <tr>\n      <th>2</th>\n      <td>ROBBERY</td>\n    </tr>\n    <tr>\n      <th>3</th>\n      <td>THEFT</td>\n    </tr>\n  </tbody>\n</table>\n</div>",
                        "text/plain": "        PRIMARY_TYPE\n0  CRIMINAL TRESPASS\n1          NARCOTICS\n2            ROBBERY\n3              THEFT"
                    },
                    "execution_count": 21,
                    "metadata": {},
                    "output_type": "execute_result"
                }
            ],
            "source": "sql=\"select  DISTINCT  PRIMARY_TYPE from crimes where LOCATION_DESCRIPTION= 'GAS STATION'\"\ndf = pd.read_sql(sql,coni)\ndf"
        },
        {
            "cell_type": "code",
            "execution_count": 22,
            "metadata": {},
            "outputs": [
                {
                    "data": {
                        "text/html": "<div>\n<style scoped>\n    .dataframe tbody tr th:only-of-type {\n        vertical-align: middle;\n    }\n\n    .dataframe tbody tr th {\n        vertical-align: top;\n    }\n\n    .dataframe thead th {\n        text-align: right;\n    }\n</style>\n<table border=\"1\" class=\"dataframe\">\n  <thead>\n    <tr style=\"text-align: right;\">\n      <th></th>\n      <th>COMMUNITY_AREA_NUMBER</th>\n      <th>COMMUNITY_AREA_NAME</th>\n      <th>PERCENT_OF_HOUSING_CROWDED</th>\n      <th>PERCENT_HOUSEHOLDS_BELOW_POVERTY</th>\n      <th>PERCENT_AGED_16__UNEMPLOYED</th>\n      <th>PERCENT_AGED_25__WITHOUT_HIGH_SCHOOL_DIPLOMA</th>\n      <th>PERCENT_AGED_UNDER_18_OR_OVER_64</th>\n      <th>PER_CAPITA_INCOME</th>\n      <th>HARDSHIP_INDEX</th>\n    </tr>\n  </thead>\n  <tbody>\n    <tr>\n      <th>0</th>\n      <td>19</td>\n      <td>Belmont Cragin</td>\n      <td>10.8</td>\n      <td>18.7</td>\n      <td>14.6</td>\n      <td>37.3</td>\n      <td>37.3</td>\n      <td>15461</td>\n      <td>70</td>\n    </tr>\n    <tr>\n      <th>1</th>\n      <td>47</td>\n      <td>Burnside</td>\n      <td>6.8</td>\n      <td>33.0</td>\n      <td>18.6</td>\n      <td>19.3</td>\n      <td>42.7</td>\n      <td>12515</td>\n      <td>79</td>\n    </tr>\n    <tr>\n      <th>2</th>\n      <td>58</td>\n      <td>Brighton Park</td>\n      <td>14.4</td>\n      <td>23.6</td>\n      <td>13.9</td>\n      <td>45.1</td>\n      <td>39.3</td>\n      <td>13089</td>\n      <td>84</td>\n    </tr>\n    <tr>\n      <th>3</th>\n      <td>60</td>\n      <td>Bridgeport</td>\n      <td>4.5</td>\n      <td>18.9</td>\n      <td>13.7</td>\n      <td>22.2</td>\n      <td>31.3</td>\n      <td>22694</td>\n      <td>43</td>\n    </tr>\n    <tr>\n      <th>4</th>\n      <td>72</td>\n      <td>Beverly</td>\n      <td>0.9</td>\n      <td>5.1</td>\n      <td>8.0</td>\n      <td>3.7</td>\n      <td>40.5</td>\n      <td>39523</td>\n      <td>12</td>\n    </tr>\n  </tbody>\n</table>\n</div>",
                        "text/plain": "   COMMUNITY_AREA_NUMBER COMMUNITY_AREA_NAME  PERCENT_OF_HOUSING_CROWDED  \\\n0                     19      Belmont Cragin                        10.8   \n1                     47            Burnside                         6.8   \n2                     58       Brighton Park                        14.4   \n3                     60          Bridgeport                         4.5   \n4                     72             Beverly                         0.9   \n\n   PERCENT_HOUSEHOLDS_BELOW_POVERTY  PERCENT_AGED_16__UNEMPLOYED  \\\n0                              18.7                         14.6   \n1                              33.0                         18.6   \n2                              23.6                         13.9   \n3                              18.9                         13.7   \n4                               5.1                          8.0   \n\n   PERCENT_AGED_25__WITHOUT_HIGH_SCHOOL_DIPLOMA  \\\n0                                          37.3   \n1                                          19.3   \n2                                          45.1   \n3                                          22.2   \n4                                           3.7   \n\n   PERCENT_AGED_UNDER_18_OR_OVER_64  PER_CAPITA_INCOME  HARDSHIP_INDEX  \n0                              37.3              15461              70  \n1                              42.7              12515              79  \n2                              39.3              13089              84  \n3                              31.3              22694              43  \n4                              40.5              39523              12  "
                    },
                    "execution_count": 22,
                    "metadata": {},
                    "output_type": "execute_result"
                }
            ],
            "source": "sql=\"select * from census where COMMUNITY_AREA_NAME LIKE 'B%'\"\ndf = pd.read_sql(sql,coni)\ndf"
        },
        {
            "cell_type": "code",
            "execution_count": 24,
            "metadata": {},
            "outputs": [
                {
                    "data": {
                        "text/html": "<div>\n<style scoped>\n    .dataframe tbody tr th:only-of-type {\n        vertical-align: middle;\n    }\n\n    .dataframe tbody tr th {\n        vertical-align: top;\n    }\n\n    .dataframe thead th {\n        text-align: right;\n    }\n</style>\n<table border=\"1\" class=\"dataframe\">\n  <thead>\n    <tr style=\"text-align: right;\">\n      <th></th>\n      <th>NAME_OF_SCHOOL</th>\n    </tr>\n  </thead>\n  <tbody>\n    <tr>\n      <th>0</th>\n      <td>Rufus M Hitch Elementary School</td>\n    </tr>\n  </tbody>\n</table>\n</div>",
                        "text/plain": "                    NAME_OF_SCHOOL\n0  Rufus M Hitch Elementary School"
                    },
                    "execution_count": 24,
                    "metadata": {},
                    "output_type": "execute_result"
                }
            ],
            "source": "sql=\"select NAME_OF_SCHOOL from school where  HEALTHY_SCHOOL_CERTIFIED='Yes' and (COMMUNITY_AREA_NUMBER>=10 and COMMUNITY_AREA_NUMBER<15)\"\ndf = pd.read_sql(sql,coni)\ndf\n\n"
        },
        {
            "cell_type": "code",
            "execution_count": 25,
            "metadata": {},
            "outputs": [
                {
                    "data": {
                        "text/html": "<div>\n<style scoped>\n    .dataframe tbody tr th:only-of-type {\n        vertical-align: middle;\n    }\n\n    .dataframe tbody tr th {\n        vertical-align: top;\n    }\n\n    .dataframe thead th {\n        text-align: right;\n    }\n</style>\n<table border=\"1\" class=\"dataframe\">\n  <thead>\n    <tr style=\"text-align: right;\">\n      <th></th>\n      <th>1</th>\n    </tr>\n  </thead>\n  <tbody>\n    <tr>\n      <th>0</th>\n      <td>49.504873</td>\n    </tr>\n  </tbody>\n</table>\n</div>",
                        "text/plain": "           1\n0  49.504873"
                    },
                    "execution_count": 25,
                    "metadata": {},
                    "output_type": "execute_result"
                }
            ],
            "source": "sql=\"select  AVG(SAFETY_SCORE) from school\"\ndf = pd.read_sql(sql,coni)\ndf\n"
        },
        {
            "cell_type": "code",
            "execution_count": 26,
            "metadata": {},
            "outputs": [
                {
                    "data": {
                        "text/html": "<div>\n<style scoped>\n    .dataframe tbody tr th:only-of-type {\n        vertical-align: middle;\n    }\n\n    .dataframe tbody tr th {\n        vertical-align: top;\n    }\n\n    .dataframe thead th {\n        text-align: right;\n    }\n</style>\n<table border=\"1\" class=\"dataframe\">\n  <thead>\n    <tr style=\"text-align: right;\">\n      <th></th>\n      <th>1</th>\n    </tr>\n  </thead>\n  <tbody>\n    <tr>\n      <th>0</th>\n      <td>626.053003</td>\n    </tr>\n  </tbody>\n</table>\n</div>",
                        "text/plain": "            1\n0  626.053003"
                    },
                    "execution_count": 26,
                    "metadata": {},
                    "output_type": "execute_result"
                }
            ],
            "source": "sql=\"select AVG(COLLEGE_ENROLLMENT) from school\"\ndf = pd.read_sql(sql,coni)\ndf\n"
        },
        {
            "cell_type": "code",
            "execution_count": 27,
            "metadata": {},
            "outputs": [
                {
                    "data": {
                        "text/html": "<div>\n<style scoped>\n    .dataframe tbody tr th:only-of-type {\n        vertical-align: middle;\n    }\n\n    .dataframe tbody tr th {\n        vertical-align: top;\n    }\n\n    .dataframe thead th {\n        text-align: right;\n    }\n</style>\n<table border=\"1\" class=\"dataframe\">\n  <thead>\n    <tr style=\"text-align: right;\">\n      <th></th>\n      <th>COMMUNITY_AREA_NAME</th>\n      <th>COLLEGE_ENROLLMENT</th>\n    </tr>\n  </thead>\n  <tbody>\n    <tr>\n      <th>0</th>\n      <td>SOUTH LAWNDALE</td>\n      <td>631</td>\n    </tr>\n    <tr>\n      <th>1</th>\n      <td>MCKINLEY PARK</td>\n      <td>631</td>\n    </tr>\n    <tr>\n      <th>2</th>\n      <td>EAST SIDE</td>\n      <td>632</td>\n    </tr>\n    <tr>\n      <th>3</th>\n      <td>HEGEWISCH</td>\n      <td>633</td>\n    </tr>\n    <tr>\n      <th>4</th>\n      <td>WEST TOWN</td>\n      <td>633</td>\n    </tr>\n    <tr>\n      <th>5</th>\n      <td>BELMONT CRAGIN</td>\n      <td>634</td>\n    </tr>\n    <tr>\n      <th>6</th>\n      <td>LOWER WEST SIDE</td>\n      <td>636</td>\n    </tr>\n    <tr>\n      <th>7</th>\n      <td>IRVING PARK</td>\n      <td>638</td>\n    </tr>\n    <tr>\n      <th>8</th>\n      <td>AVONDALE</td>\n      <td>644</td>\n    </tr>\n    <tr>\n      <th>9</th>\n      <td>WEST RIDGE</td>\n      <td>646</td>\n    </tr>\n    <tr>\n      <th>10</th>\n      <td>NORWOOD PARK</td>\n      <td>648</td>\n    </tr>\n    <tr>\n      <th>11</th>\n      <td>EDISON PARK</td>\n      <td>650</td>\n    </tr>\n    <tr>\n      <th>12</th>\n      <td>IRVING PARK</td>\n      <td>650</td>\n    </tr>\n    <tr>\n      <th>13</th>\n      <td>CHATHAM</td>\n      <td>652</td>\n    </tr>\n    <tr>\n      <th>14</th>\n      <td>SOUTH LAWNDALE</td>\n      <td>654</td>\n    </tr>\n    <tr>\n      <th>15</th>\n      <td>HYDE PARK</td>\n      <td>654</td>\n    </tr>\n    <tr>\n      <th>16</th>\n      <td>LOWER WEST SIDE</td>\n      <td>656</td>\n    </tr>\n    <tr>\n      <th>17</th>\n      <td>ASHBURN</td>\n      <td>658</td>\n    </tr>\n    <tr>\n      <th>18</th>\n      <td>AUSTIN</td>\n      <td>658</td>\n    </tr>\n    <tr>\n      <th>19</th>\n      <td>WEST RIDGE</td>\n      <td>659</td>\n    </tr>\n    <tr>\n      <th>20</th>\n      <td>ARMOUR SQUARE</td>\n      <td>664</td>\n    </tr>\n    <tr>\n      <th>21</th>\n      <td>NORTH CENTER</td>\n      <td>668</td>\n    </tr>\n    <tr>\n      <th>22</th>\n      <td>WEST TOWN</td>\n      <td>669</td>\n    </tr>\n    <tr>\n      <th>23</th>\n      <td>PORTAGE PARK</td>\n      <td>672</td>\n    </tr>\n    <tr>\n      <th>24</th>\n      <td>IRVING PARK</td>\n      <td>672</td>\n    </tr>\n    <tr>\n      <th>25</th>\n      <td>NEW CITY</td>\n      <td>679</td>\n    </tr>\n    <tr>\n      <th>26</th>\n      <td>HUMBOLDT PARK</td>\n      <td>686</td>\n    </tr>\n    <tr>\n      <th>27</th>\n      <td>NORWOOD PARK</td>\n      <td>687</td>\n    </tr>\n    <tr>\n      <th>28</th>\n      <td>ROSELAND</td>\n      <td>688</td>\n    </tr>\n    <tr>\n      <th>29</th>\n      <td>IRVING PARK</td>\n      <td>688</td>\n    </tr>\n    <tr>\n      <th>...</th>\n      <td>...</td>\n      <td>...</td>\n    </tr>\n    <tr>\n      <th>175</th>\n      <td>LAKE VIEW</td>\n      <td>1500</td>\n    </tr>\n    <tr>\n      <th>176</th>\n      <td>ARCHER HEIGHTS</td>\n      <td>1503</td>\n    </tr>\n    <tr>\n      <th>177</th>\n      <td>WEST RIDGE</td>\n      <td>1509</td>\n    </tr>\n    <tr>\n      <th>178</th>\n      <td>WOODLAWN</td>\n      <td>1518</td>\n    </tr>\n    <tr>\n      <th>179</th>\n      <td>BELMONT CRAGIN</td>\n      <td>1520</td>\n    </tr>\n    <tr>\n      <th>180</th>\n      <td>EAST SIDE</td>\n      <td>1524</td>\n    </tr>\n    <tr>\n      <th>181</th>\n      <td>LINCOLN SQUARE</td>\n      <td>1532</td>\n    </tr>\n    <tr>\n      <th>182</th>\n      <td>CHATHAM</td>\n      <td>1535</td>\n    </tr>\n    <tr>\n      <th>183</th>\n      <td>WEST ELSDON</td>\n      <td>1560</td>\n    </tr>\n    <tr>\n      <th>184</th>\n      <td>MORGAN PARK</td>\n      <td>1584</td>\n    </tr>\n    <tr>\n      <th>185</th>\n      <td>GARFIELD RIDGE</td>\n      <td>1589</td>\n    </tr>\n    <tr>\n      <th>186</th>\n      <td>NORTH PARK</td>\n      <td>1636</td>\n    </tr>\n    <tr>\n      <th>187</th>\n      <td>UPTOWN</td>\n      <td>1651</td>\n    </tr>\n    <tr>\n      <th>188</th>\n      <td>ASHBURN</td>\n      <td>1656</td>\n    </tr>\n    <tr>\n      <th>189</th>\n      <td>WEST RIDGE</td>\n      <td>1657</td>\n    </tr>\n    <tr>\n      <th>190</th>\n      <td>WEST LAWN</td>\n      <td>1672</td>\n    </tr>\n    <tr>\n      <th>191</th>\n      <td>LOWER WEST SIDE</td>\n      <td>1683</td>\n    </tr>\n    <tr>\n      <th>192</th>\n      <td>PORTAGE PARK</td>\n      <td>1716</td>\n    </tr>\n    <tr>\n      <th>193</th>\n      <td>CHICAGO LAWN</td>\n      <td>1777</td>\n    </tr>\n    <tr>\n      <th>194</th>\n      <td>BRIGHTON PARK</td>\n      <td>1834</td>\n    </tr>\n    <tr>\n      <th>195</th>\n      <td>GAGE PARK</td>\n      <td>1846</td>\n    </tr>\n    <tr>\n      <th>196</th>\n      <td>KENWOOD</td>\n      <td>1852</td>\n    </tr>\n    <tr>\n      <th>197</th>\n      <td>BELMONT CRAGIN</td>\n      <td>1890</td>\n    </tr>\n    <tr>\n      <th>198</th>\n      <td>NEAR WEST SIDE</td>\n      <td>2166</td>\n    </tr>\n    <tr>\n      <th>199</th>\n      <td>LINCOLN PARK</td>\n      <td>2342</td>\n    </tr>\n    <tr>\n      <th>200</th>\n      <td>IRVING PARK</td>\n      <td>2366</td>\n    </tr>\n    <tr>\n      <th>201</th>\n      <td>BRIGHTON PARK</td>\n      <td>2883</td>\n    </tr>\n    <tr>\n      <th>202</th>\n      <td>NORWOOD PARK</td>\n      <td>2922</td>\n    </tr>\n    <tr>\n      <th>203</th>\n      <td>ARCHER HEIGHTS</td>\n      <td>3320</td>\n    </tr>\n    <tr>\n      <th>204</th>\n      <td>NORTH CENTER</td>\n      <td>4368</td>\n    </tr>\n  </tbody>\n</table>\n<p>205 rows \u00d7 2 columns</p>\n</div>",
                        "text/plain": "    COMMUNITY_AREA_NAME  COLLEGE_ENROLLMENT\n0        SOUTH LAWNDALE                 631\n1         MCKINLEY PARK                 631\n2             EAST SIDE                 632\n3             HEGEWISCH                 633\n4             WEST TOWN                 633\n5        BELMONT CRAGIN                 634\n6       LOWER WEST SIDE                 636\n7           IRVING PARK                 638\n8              AVONDALE                 644\n9            WEST RIDGE                 646\n10         NORWOOD PARK                 648\n11          EDISON PARK                 650\n12          IRVING PARK                 650\n13              CHATHAM                 652\n14       SOUTH LAWNDALE                 654\n15            HYDE PARK                 654\n16      LOWER WEST SIDE                 656\n17              ASHBURN                 658\n18               AUSTIN                 658\n19           WEST RIDGE                 659\n20        ARMOUR SQUARE                 664\n21         NORTH CENTER                 668\n22            WEST TOWN                 669\n23         PORTAGE PARK                 672\n24          IRVING PARK                 672\n25             NEW CITY                 679\n26        HUMBOLDT PARK                 686\n27         NORWOOD PARK                 687\n28             ROSELAND                 688\n29          IRVING PARK                 688\n..                  ...                 ...\n175           LAKE VIEW                1500\n176      ARCHER HEIGHTS                1503\n177          WEST RIDGE                1509\n178            WOODLAWN                1518\n179      BELMONT CRAGIN                1520\n180           EAST SIDE                1524\n181      LINCOLN SQUARE                1532\n182             CHATHAM                1535\n183         WEST ELSDON                1560\n184         MORGAN PARK                1584\n185      GARFIELD RIDGE                1589\n186          NORTH PARK                1636\n187              UPTOWN                1651\n188             ASHBURN                1656\n189          WEST RIDGE                1657\n190           WEST LAWN                1672\n191     LOWER WEST SIDE                1683\n192        PORTAGE PARK                1716\n193        CHICAGO LAWN                1777\n194       BRIGHTON PARK                1834\n195           GAGE PARK                1846\n196             KENWOOD                1852\n197      BELMONT CRAGIN                1890\n198      NEAR WEST SIDE                2166\n199        LINCOLN PARK                2342\n200         IRVING PARK                2366\n201       BRIGHTON PARK                2883\n202        NORWOOD PARK                2922\n203      ARCHER HEIGHTS                3320\n204        NORTH CENTER                4368\n\n[205 rows x 2 columns]"
                    },
                    "execution_count": 27,
                    "metadata": {},
                    "output_type": "execute_result"
                }
            ],
            "source": "sql=\"select COMMUNITY_AREA_NAME, COLLEGE_ENROLLMENT from school where COLLEGE_ENROLLMENT >626 order by COLLEGE_ENROLLMENT\"\ndf = pd.read_sql(sql,coni)\ndf\n"
        },
        {
            "cell_type": "code",
            "execution_count": 28,
            "metadata": {},
            "outputs": [
                {
                    "data": {
                        "text/html": "<div>\n<style scoped>\n    .dataframe tbody tr th:only-of-type {\n        vertical-align: middle;\n    }\n\n    .dataframe tbody tr th {\n        vertical-align: top;\n    }\n\n    .dataframe thead th {\n        text-align: right;\n    }\n</style>\n<table border=\"1\" class=\"dataframe\">\n  <thead>\n    <tr style=\"text-align: right;\">\n      <th></th>\n      <th>COMMUNITY_AREA_NAME</th>\n      <th>SAFETY_SCORE</th>\n    </tr>\n  </thead>\n  <tbody>\n    <tr>\n      <th>0</th>\n      <td>WASHINGTON PARK</td>\n      <td>1.0</td>\n    </tr>\n    <tr>\n      <th>1</th>\n      <td>WEST ENGLEWOOD</td>\n      <td>5.0</td>\n    </tr>\n    <tr>\n      <th>2</th>\n      <td>WEST GARFIELD PARK</td>\n      <td>6.0</td>\n    </tr>\n    <tr>\n      <th>3</th>\n      <td>AUBURN GRESHAM</td>\n      <td>11.0</td>\n    </tr>\n    <tr>\n      <th>4</th>\n      <td>GREATER GRAND CROSSING</td>\n      <td>13.0</td>\n    </tr>\n    <tr>\n      <th>5</th>\n      <td>WOODLAWN</td>\n      <td>13.0</td>\n    </tr>\n    <tr>\n      <th>6</th>\n      <td>WASHINGTON PARK</td>\n      <td>13.0</td>\n    </tr>\n    <tr>\n      <th>7</th>\n      <td>ROSELAND</td>\n      <td>14.0</td>\n    </tr>\n    <tr>\n      <th>8</th>\n      <td>GAGE PARK</td>\n      <td>14.0</td>\n    </tr>\n    <tr>\n      <th>9</th>\n      <td>WEST ENGLEWOOD</td>\n      <td>15.0</td>\n    </tr>\n    <tr>\n      <th>10</th>\n      <td>CHICAGO LAWN</td>\n      <td>15.0</td>\n    </tr>\n    <tr>\n      <th>11</th>\n      <td>ROSELAND</td>\n      <td>15.0</td>\n    </tr>\n    <tr>\n      <th>12</th>\n      <td>WEST ENGLEWOOD</td>\n      <td>16.0</td>\n    </tr>\n    <tr>\n      <th>13</th>\n      <td>LOGAN SQUARE</td>\n      <td>16.0</td>\n    </tr>\n    <tr>\n      <th>14</th>\n      <td>SOUTH SHORE</td>\n      <td>17.0</td>\n    </tr>\n    <tr>\n      <th>15</th>\n      <td>SOUTH CHICAGO</td>\n      <td>17.0</td>\n    </tr>\n    <tr>\n      <th>16</th>\n      <td>WEST PULLMAN</td>\n      <td>17.0</td>\n    </tr>\n    <tr>\n      <th>17</th>\n      <td>SOUTH DEERING</td>\n      <td>18.0</td>\n    </tr>\n    <tr>\n      <th>18</th>\n      <td>ENGLEWOOD</td>\n      <td>18.0</td>\n    </tr>\n    <tr>\n      <th>19</th>\n      <td>ROSELAND</td>\n      <td>19.0</td>\n    </tr>\n    <tr>\n      <th>20</th>\n      <td>WOODLAWN</td>\n      <td>19.0</td>\n    </tr>\n    <tr>\n      <th>21</th>\n      <td>SOUTH DEERING</td>\n      <td>19.0</td>\n    </tr>\n    <tr>\n      <th>22</th>\n      <td>GREATER GRAND CROSSING</td>\n      <td>20.0</td>\n    </tr>\n    <tr>\n      <th>23</th>\n      <td>KENWOOD</td>\n      <td>20.0</td>\n    </tr>\n    <tr>\n      <th>24</th>\n      <td>ASHBURN</td>\n      <td>20.0</td>\n    </tr>\n    <tr>\n      <th>25</th>\n      <td>AUSTIN</td>\n      <td>21.0</td>\n    </tr>\n    <tr>\n      <th>26</th>\n      <td>ENGLEWOOD</td>\n      <td>21.0</td>\n    </tr>\n    <tr>\n      <th>27</th>\n      <td>SOUTH CHICAGO</td>\n      <td>22.0</td>\n    </tr>\n    <tr>\n      <th>28</th>\n      <td>NEW CITY</td>\n      <td>22.0</td>\n    </tr>\n    <tr>\n      <th>29</th>\n      <td>GRAND BOULEVARD</td>\n      <td>22.0</td>\n    </tr>\n    <tr>\n      <th>...</th>\n      <td>...</td>\n      <td>...</td>\n    </tr>\n    <tr>\n      <th>536</th>\n      <td>AUBURN GRESHAM</td>\n      <td>NaN</td>\n    </tr>\n    <tr>\n      <th>537</th>\n      <td>SOUTH LAWNDALE</td>\n      <td>NaN</td>\n    </tr>\n    <tr>\n      <th>538</th>\n      <td>ROGERS PARK</td>\n      <td>NaN</td>\n    </tr>\n    <tr>\n      <th>539</th>\n      <td>HUMBOLDT PARK</td>\n      <td>NaN</td>\n    </tr>\n    <tr>\n      <th>540</th>\n      <td>NORTH LAWNDALE</td>\n      <td>NaN</td>\n    </tr>\n    <tr>\n      <th>541</th>\n      <td>SOUTH LAWNDALE</td>\n      <td>NaN</td>\n    </tr>\n    <tr>\n      <th>542</th>\n      <td>LINCOLN PARK</td>\n      <td>NaN</td>\n    </tr>\n    <tr>\n      <th>543</th>\n      <td>CALUMET HEIGHTS</td>\n      <td>NaN</td>\n    </tr>\n    <tr>\n      <th>544</th>\n      <td>AUSTIN</td>\n      <td>NaN</td>\n    </tr>\n    <tr>\n      <th>545</th>\n      <td>MCKINLEY PARK</td>\n      <td>NaN</td>\n    </tr>\n    <tr>\n      <th>546</th>\n      <td>ROGERS PARK</td>\n      <td>NaN</td>\n    </tr>\n    <tr>\n      <th>547</th>\n      <td>HUMBOLDT PARK</td>\n      <td>NaN</td>\n    </tr>\n    <tr>\n      <th>548</th>\n      <td>HUMBOLDT PARK</td>\n      <td>NaN</td>\n    </tr>\n    <tr>\n      <th>549</th>\n      <td>SOUTH SHORE</td>\n      <td>NaN</td>\n    </tr>\n    <tr>\n      <th>550</th>\n      <td>LOWER WEST SIDE</td>\n      <td>NaN</td>\n    </tr>\n    <tr>\n      <th>551</th>\n      <td>WEST PULLMAN</td>\n      <td>NaN</td>\n    </tr>\n    <tr>\n      <th>552</th>\n      <td>HERMOSA</td>\n      <td>NaN</td>\n    </tr>\n    <tr>\n      <th>553</th>\n      <td>NEAR NORTH SIDE</td>\n      <td>NaN</td>\n    </tr>\n    <tr>\n      <th>554</th>\n      <td>GAGE PARK</td>\n      <td>NaN</td>\n    </tr>\n    <tr>\n      <th>555</th>\n      <td>SOUTH SHORE</td>\n      <td>NaN</td>\n    </tr>\n    <tr>\n      <th>556</th>\n      <td>WEST ENGLEWOOD</td>\n      <td>NaN</td>\n    </tr>\n    <tr>\n      <th>557</th>\n      <td>NEAR WEST SIDE</td>\n      <td>NaN</td>\n    </tr>\n    <tr>\n      <th>558</th>\n      <td>WEST PULLMAN</td>\n      <td>NaN</td>\n    </tr>\n    <tr>\n      <th>559</th>\n      <td>MCKINLEY PARK</td>\n      <td>NaN</td>\n    </tr>\n    <tr>\n      <th>560</th>\n      <td>UPTOWN</td>\n      <td>NaN</td>\n    </tr>\n    <tr>\n      <th>561</th>\n      <td>GAGE PARK</td>\n      <td>NaN</td>\n    </tr>\n    <tr>\n      <th>562</th>\n      <td>DOUGLAS</td>\n      <td>NaN</td>\n    </tr>\n    <tr>\n      <th>563</th>\n      <td>NEAR NORTH SIDE</td>\n      <td>NaN</td>\n    </tr>\n    <tr>\n      <th>564</th>\n      <td>ALBANY PARK</td>\n      <td>NaN</td>\n    </tr>\n    <tr>\n      <th>565</th>\n      <td>DOUGLAS</td>\n      <td>NaN</td>\n    </tr>\n  </tbody>\n</table>\n<p>566 rows \u00d7 2 columns</p>\n</div>",
                        "text/plain": "        COMMUNITY_AREA_NAME  SAFETY_SCORE\n0           WASHINGTON PARK           1.0\n1            WEST ENGLEWOOD           5.0\n2        WEST GARFIELD PARK           6.0\n3            AUBURN GRESHAM          11.0\n4    GREATER GRAND CROSSING          13.0\n5                  WOODLAWN          13.0\n6           WASHINGTON PARK          13.0\n7                  ROSELAND          14.0\n8                 GAGE PARK          14.0\n9            WEST ENGLEWOOD          15.0\n10             CHICAGO LAWN          15.0\n11                 ROSELAND          15.0\n12           WEST ENGLEWOOD          16.0\n13             LOGAN SQUARE          16.0\n14              SOUTH SHORE          17.0\n15            SOUTH CHICAGO          17.0\n16             WEST PULLMAN          17.0\n17            SOUTH DEERING          18.0\n18                ENGLEWOOD          18.0\n19                 ROSELAND          19.0\n20                 WOODLAWN          19.0\n21            SOUTH DEERING          19.0\n22   GREATER GRAND CROSSING          20.0\n23                  KENWOOD          20.0\n24                  ASHBURN          20.0\n25                   AUSTIN          21.0\n26                ENGLEWOOD          21.0\n27            SOUTH CHICAGO          22.0\n28                 NEW CITY          22.0\n29          GRAND BOULEVARD          22.0\n..                      ...           ...\n536          AUBURN GRESHAM           NaN\n537          SOUTH LAWNDALE           NaN\n538             ROGERS PARK           NaN\n539           HUMBOLDT PARK           NaN\n540          NORTH LAWNDALE           NaN\n541          SOUTH LAWNDALE           NaN\n542            LINCOLN PARK           NaN\n543         CALUMET HEIGHTS           NaN\n544                  AUSTIN           NaN\n545           MCKINLEY PARK           NaN\n546             ROGERS PARK           NaN\n547           HUMBOLDT PARK           NaN\n548           HUMBOLDT PARK           NaN\n549             SOUTH SHORE           NaN\n550         LOWER WEST SIDE           NaN\n551            WEST PULLMAN           NaN\n552                 HERMOSA           NaN\n553         NEAR NORTH SIDE           NaN\n554               GAGE PARK           NaN\n555             SOUTH SHORE           NaN\n556          WEST ENGLEWOOD           NaN\n557          NEAR WEST SIDE           NaN\n558            WEST PULLMAN           NaN\n559           MCKINLEY PARK           NaN\n560                  UPTOWN           NaN\n561               GAGE PARK           NaN\n562                 DOUGLAS           NaN\n563         NEAR NORTH SIDE           NaN\n564             ALBANY PARK           NaN\n565                 DOUGLAS           NaN\n\n[566 rows x 2 columns]"
                    },
                    "execution_count": 28,
                    "metadata": {},
                    "output_type": "execute_result"
                }
            ],
            "source": "sql=\"select COMMUNITY_AREA_NAME,SAFETY_SCORE from school order by SAFETY_SCORE\"\ndf = pd.read_sql(sql,coni)\ndf\n"
        },
        {
            "cell_type": "code",
            "execution_count": null,
            "metadata": {},
            "outputs": [],
            "source": ""
        }
    ],
    "metadata": {
        "kernelspec": {
            "display_name": "Python 3.6",
            "language": "python",
            "name": "python3"
        },
        "language_info": {
            "codemirror_mode": {
                "name": "ipython",
                "version": 3
            },
            "file_extension": ".py",
            "mimetype": "text/x-python",
            "name": "python",
            "nbconvert_exporter": "python",
            "pygments_lexer": "ipython3",
            "version": "3.6.9"
        }
    },
    "nbformat": 4,
    "nbformat_minor": 1
}